{
 "cells": [
  {
   "cell_type": "code",
   "execution_count": 1,
   "metadata": {},
   "outputs": [],
   "source": [
    "# System\n",
    "import os\n",
    "import sys\n",
    "import tabulate\n",
    "import time\n",
    "\n",
    "# Data processing\n",
    "import numpy as np\n",
    "import math as m\n",
    "\n",
    "# Results presentation\n",
    "from tqdm import tqdm_notebook as tqdm\n",
    "from IPython.display import clear_output\n",
    "import matplotlib\n",
    "import matplotlib.pyplot as plt\n",
    "\n",
    "# NN related stuff\n",
    "import torch\n",
    "import torch.nn as nn\n",
    "import torch.nn.functional as F\n",
    "from torch.utils.data import Dataset, DataLoader\n",
    "# from torch.autograd import Variable\n",
    "\n",
    "import data\n",
    "import models\n",
    "import utils\n",
    "import correlation\n",
    "\n",
    "\n",
    "%matplotlib inline"
   ]
  },
  {
   "cell_type": "code",
   "execution_count": 2,
   "metadata": {},
   "outputs": [],
   "source": [
    "class GlobalArguments():\n",
    "    \n",
    "    def __init__(self):\n",
    "        self.model       = 'VGG16BN'\n",
    "        self.dataset     = 'CIFAR10'\n",
    "        self.data_path   = 'Data/'\n",
    "        self.batch_size  = 128\n",
    "        self.num_workers = 4\n",
    "        self.transform   = 'VGG'\n",
    "        self.use_test    = False\n",
    "        self.models_path = 'Checkpoints/'\n",
    "        self.n_models    = 13\n",
    "args = GlobalArguments()"
   ]
  },
  {
   "cell_type": "code",
   "execution_count": 3,
   "metadata": {},
   "outputs": [
    {
     "name": "stdout",
     "output_type": "stream",
     "text": [
      "Files already downloaded and verified\n",
      "Using train (45000) + validation (5000)\n",
      "Files already downloaded and verified\n"
     ]
    }
   ],
   "source": [
    "loaders, num_classes = data.loaders(\n",
    "    args.dataset,\n",
    "    args.data_path,\n",
    "    args.batch_size,\n",
    "    args.num_workers,\n",
    "    args.transform,\n",
    "    args.use_test\n",
    ")"
   ]
  },
  {
   "cell_type": "code",
   "execution_count": 4,
   "metadata": {},
   "outputs": [],
   "source": [
    "architecture = getattr(models, args.model)"
   ]
  },
  {
   "cell_type": "code",
   "execution_count": 5,
   "metadata": {},
   "outputs": [
    {
     "name": "stdout",
     "output_type": "stream",
     "text": [
      "None\n"
     ]
    }
   ],
   "source": [
    "print (np.random.shuffle(np.arange(args.n_models)))"
   ]
  },
  {
   "cell_type": "code",
   "execution_count": 6,
   "metadata": {},
   "outputs": [],
   "source": [
    "models_list_ind = []\n",
    "indicies = np.arange(args.n_models)\n",
    "# np.random.shuffle(indicies[1:-1])\n",
    "\n",
    "for i in indicies:\n",
    "    model = architecture.base(num_classes=num_classes, **architecture.kwargs)\n",
    "    checkpoint = torch.load(\n",
    "          args.models_path\n",
    "        + args.model + '_'\n",
    "        + args.dataset + '_'\n",
    "        + str(i) + '/checkpoint-200.pt')\n",
    "#     print (model)\n",
    "    model.load_state_dict(checkpoint['model_state'])\n",
    "    models_list_ind.append(model)"
   ]
  },
  {
   "cell_type": "code",
   "execution_count": 7,
   "metadata": {},
   "outputs": [],
   "source": [
    "models_list_fge = []\n",
    "indicies = range (370, 611, 20)\n",
    "\n",
    "for i in indicies:\n",
    "    model = architecture.base(num_classes=num_classes, **architecture.kwargs)\n",
    "    checkpoint = torch.load('./Checkpoints/FGE_VGG16BN_CIFAR10_CYCLE8_1/fge-' + str(i) + '.pt')\n",
    "#     print (model)\n",
    "    model.load_state_dict(checkpoint['model_state'])\n",
    "    models_list_fge.append(model)"
   ]
  },
  {
   "cell_type": "code",
   "execution_count": null,
   "metadata": {},
   "outputs": [],
   "source": []
  },
  {
   "cell_type": "code",
   "execution_count": 8,
   "metadata": {},
   "outputs": [],
   "source": [
    "def ensemble_models (model_list, dataloader, device=torch.device('cpu')):\n",
    "    predictions = []\n",
    "    target = []\n",
    "    n_models = len(model_list)\n",
    "    \n",
    "    for _, labels in dataloader:\n",
    "        target.append(labels.detach())\n",
    "    target = torch.cat(target, dim=0)\n",
    "    \n",
    "    for iter, model in tqdm(enumerate(model_list)):\n",
    "        model.eval().to(device)\n",
    "        predictions.append([])\n",
    "        for input, _ in dataloader:\n",
    "            predictions[iter].append(model(input.detach().to(device)).detach().cpu())\n",
    "        predictions[iter] = torch.cat(predictions[iter], dim=0)\n",
    "        \n",
    "    print (predictions[0].shape, predictions[0].dtype)\n",
    "    print (target.shape, target.dtype)\n",
    "    \n",
    "    sum_prediction = torch.zeros_like(predictions[0])\n",
    "    acc_list = []\n",
    "    ens_acc_list = []\n",
    "    for prediction in tqdm(predictions):\n",
    "        sum_prediction += prediction\n",
    "        pred_labels     = prediction    .argmax(dim=1)\n",
    "        ens_pred_labels = sum_prediction.argmax(dim=1)\n",
    "        \n",
    "        acc     = torch.eq(pred_labels    , target).sum().item() / len(target)\n",
    "        ens_acc = torch.eq(ens_pred_labels, target).sum().item() / len(target)\n",
    "        acc_list    .append(acc)\n",
    "        ens_acc_list.append(ens_acc)\n",
    "        \n",
    "    return acc_list, ens_acc_list"
   ]
  },
  {
   "cell_type": "code",
   "execution_count": 9,
   "metadata": {},
   "outputs": [
    {
     "data": {
      "application/vnd.jupyter.widget-view+json": {
       "model_id": "c92faf86dbac45f4a2eb0d608e9a381a",
       "version_major": 2,
       "version_minor": 0
      },
      "text/plain": [
       "HBox(children=(IntProgress(value=1, bar_style='info', max=1), HTML(value='')))"
      ]
     },
     "metadata": {},
     "output_type": "display_data"
    },
    {
     "name": "stdout",
     "output_type": "stream",
     "text": [
      "\n",
      "torch.Size([5000, 10]) torch.float32\n",
      "torch.Size([5000]) torch.int64\n"
     ]
    },
    {
     "data": {
      "application/vnd.jupyter.widget-view+json": {
       "model_id": "6e43f54131dc4e7b80a668fbd6862639",
       "version_major": 2,
       "version_minor": 0
      },
      "text/plain": [
       "HBox(children=(IntProgress(value=0, max=13), HTML(value='')))"
      ]
     },
     "metadata": {},
     "output_type": "display_data"
    },
    {
     "name": "stdout",
     "output_type": "stream",
     "text": [
      "\n"
     ]
    }
   ],
   "source": [
    "acc_list_ind, ens_acc_list_ind = ensemble_models(models_list_ind, loaders['test'], torch.device('cuda:0'))"
   ]
  },
  {
   "cell_type": "code",
   "execution_count": 10,
   "metadata": {},
   "outputs": [
    {
     "data": {
      "application/vnd.jupyter.widget-view+json": {
       "model_id": "2beffdb86b0c4acc9cc8c0bdfaf79829",
       "version_major": 2,
       "version_minor": 0
      },
      "text/plain": [
       "HBox(children=(IntProgress(value=1, bar_style='info', max=1), HTML(value='')))"
      ]
     },
     "metadata": {},
     "output_type": "display_data"
    },
    {
     "name": "stdout",
     "output_type": "stream",
     "text": [
      "\n",
      "torch.Size([5000, 10]) torch.float32\n",
      "torch.Size([5000]) torch.int64\n"
     ]
    },
    {
     "data": {
      "application/vnd.jupyter.widget-view+json": {
       "model_id": "69e1a4dc52e443bb917381031abe5d73",
       "version_major": 2,
       "version_minor": 0
      },
      "text/plain": [
       "HBox(children=(IntProgress(value=0, max=13), HTML(value='')))"
      ]
     },
     "metadata": {},
     "output_type": "display_data"
    },
    {
     "name": "stdout",
     "output_type": "stream",
     "text": [
      "\n"
     ]
    }
   ],
   "source": [
    "acc_list_fge, ens_acc_list_fge = ensemble_models(models_list_fge, loaders['test'], torch.device('cuda:0'))"
   ]
  },
  {
   "cell_type": "code",
   "execution_count": 11,
   "metadata": {},
   "outputs": [],
   "source": [
    "def plot (y_mas, time, savefig=None):\n",
    "\n",
    "    fig, ax = plt.subplots()\n",
    "    for iter, y in enumerate(y_mas):\n",
    "        ax.plot(time, y, label=str(iter))\n",
    "\n",
    "    ax.set(xlabel='Number of models', ylabel='Accuracy',\n",
    "           title='Ensembling methods comparison')\n",
    "    ax.grid()\n",
    "\n",
    "    if savefig is not None:\n",
    "        fig.savefig(savefig)\n",
    "    plt.legend()\n",
    "    plt.show()"
   ]
  },
  {
   "cell_type": "code",
   "execution_count": 12,
   "metadata": {},
   "outputs": [
    {
     "data": {
      "image/png": "[encoded data removed]",
      "text/plain": [
       "<Figure size 432x288 with 1 Axes>"
      ]
     },
     "metadata": {
      "needs_background": "light"
     },
     "output_type": "display_data"
    }
   ],
   "source": [
    "plot ([acc_list_ind, acc_list_fge, ens_acc_list_ind, ens_acc_list_fge], np.arange(len(acc_list_ind)))"
   ]
  },
  {
   "cell_type": "code",
   "execution_count": null,
   "metadata": {},
   "outputs": [],
   "source": []
  },
  {
   "cell_type": "code",
   "execution_count": null,
   "metadata": {},
   "outputs": [],
   "source": []
  }
 ],
 "metadata": {
  "kernelspec": {
   "display_name": "Python 3",
   "language": "python",
   "name": "python3"
  },
  "language_info": {
   "codemirror_mode": {
    "name": "ipython",
    "version": 3
   },
   "file_extension": ".py",
   "mimetype": "text/x-python",
   "name": "python",
   "nbconvert_exporter": "python",
   "pygments_lexer": "ipython3",
   "version": "3.7.4"
  }
 },
 "nbformat": 4,
 "nbformat_minor": 2
}
