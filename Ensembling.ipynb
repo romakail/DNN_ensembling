{
 "cells": [
  {
   "cell_type": "code",
   "execution_count": 1,
   "metadata": {},
   "outputs": [],
   "source": [
    "# System\n",
    "import os\n",
    "import sys\n",
    "import tabulate\n",
    "import time\n",
    "\n",
    "# Data processing\n",
    "import numpy as np\n",
    "import math as m\n",
    "\n",
    "# Results presentation\n",
    "from tqdm import tqdm_notebook as tqdm\n",
    "from IPython.display import clear_output\n",
    "import matplotlib\n",
    "import matplotlib.pyplot as plt\n",
    "\n",
    "# NN related stuff\n",
    "import torch\n",
    "import torch.nn as nn\n",
    "import torch.nn.functional as F\n",
    "from torch.utils.data import Dataset, DataLoader\n",
    "# from torch.autograd import Variable\n",
    "\n",
    "import data\n",
    "import models\n",
    "import utils\n",
    "import correlation\n",
    "\n",
    "\n",
    "%matplotlib inline"
   ]
  },
  {
   "cell_type": "code",
   "execution_count": 2,
   "metadata": {},
   "outputs": [],
   "source": [
    "class GlobalArguments():\n",
    "    \n",
    "    def __init__(self):\n",
    "        self.model       = 'vgg16_bn'\n",
    "        self.dataset     = 'CIFAR10'\n",
    "        self.data_path   = 'Data/'\n",
    "        self.batch_size  = 128\n",
    "        self.num_workers = 4\n",
    "        self.transform   = 'VGG'\n",
    "        self.use_test    = True\n",
    "        self.models_path = 'Checkpoints/'\n",
    "        self.n_models    = 40\n",
    "args = GlobalArguments()"
   ]
  },
  {
   "cell_type": "code",
   "execution_count": 3,
   "metadata": {},
   "outputs": [
    {
     "name": "stdout",
     "output_type": "stream",
     "text": [
      "Files already downloaded and verified\n",
      "You are going to run models on the test set. Are you sure?\n",
      "Files already downloaded and verified\n"
     ]
    }
   ],
   "source": [
    "loaders, num_classes = data.loaders(\n",
    "    args.dataset,\n",
    "    args.data_path,\n",
    "    args.batch_size,\n",
    "    args.num_workers,\n",
    "    args.transform,\n",
    "    args.use_test\n",
    ")"
   ]
  },
  {
   "cell_type": "code",
   "execution_count": 4,
   "metadata": {},
   "outputs": [],
   "source": [
    "architecture = getattr(models, args.model)"
   ]
  },
  {
   "cell_type": "code",
   "execution_count": 5,
   "metadata": {},
   "outputs": [],
   "source": [
    "# models_list_ind = []\n",
    "# indicies = np.arange(args.n_models)\n",
    "# # np.random.shuffle(indicies[1:-1])\n",
    "\n",
    "# for i in indicies:\n",
    "#     model = architecture.base(num_classes=num_classes, **architecture.kwargs)\n",
    "#     checkpoint = torch.load(\n",
    "#           args.models_path\n",
    "#         + args.model + '_'\n",
    "#         + args.dataset + '_'\n",
    "#         + str(i) + '/checkpoint-200.pt',\n",
    "#         map_location=torch.device('cpu'))\n",
    "# #     print (model)\n",
    "#     model.load_state_dict(checkpoint['model_state'])\n",
    "#     models_list_ind.append(model)"
   ]
  },
  {
   "cell_type": "code",
   "execution_count": 6,
   "metadata": {},
   "outputs": [
    {
     "data": {
      "application/vnd.jupyter.widget-view+json": {
       "model_id": "e2cb67d3d31f42a6a8a95928da0e2b3d",
       "version_major": 2,
       "version_minor": 0
      },
      "text/plain": [
       "HBox(children=(IntProgress(value=0, max=30), HTML(value='')))"
      ]
     },
     "metadata": {},
     "output_type": "display_data"
    },
    {
     "name": "stdout",
     "output_type": "stream",
     "text": [
      "\n"
     ]
    }
   ],
   "source": [
    "models_list_fge = []\n",
    "# indicies = range (690, 1011, 20)\n",
    "indicies = range (219, 809, 20)\n",
    "\n",
    "for i in tqdm(indicies):\n",
    "    model = architecture.base(num_classes=num_classes, **architecture.kwargs)\n",
    "    checkpoint = torch.load('./Checkpoints/FGE/new/VGG16BN/CYCLE20_STEPS800/0/fge-' + str(i) + '.pt', map_location=torch.device('cpu'))\n",
    "#     print (model)\n",
    "    model.load_state_dict(checkpoint['model_state'])\n",
    "    models_list_fge.append(model)"
   ]
  },
  {
   "cell_type": "code",
   "execution_count": 7,
   "metadata": {},
   "outputs": [
    {
     "data": {
      "application/vnd.jupyter.widget-view+json": {
       "model_id": "5d68b590b0f642b899071aaa7a4424d5",
       "version_major": 2,
       "version_minor": 0
      },
      "text/plain": [
       "HBox(children=(IntProgress(value=0, max=30), HTML(value='')))"
      ]
     },
     "metadata": {},
     "output_type": "display_data"
    },
    {
     "name": "stdout",
     "output_type": "stream",
     "text": [
      "\n"
     ]
    }
   ],
   "source": [
    "models_list_fge_2 = []\n",
    "# indicies = range (690, 1011, 20)\n",
    "indicies = range (219, 809, 20)\n",
    "\n",
    "for i in tqdm(indicies):\n",
    "    model = architecture.base(num_classes=num_classes, **architecture.kwargs)\n",
    "    checkpoint = torch.load('./Checkpoints/FGE/new/VGG16BN/weight_adaboost/coef0.05_0/fge-' + str(i) + '.pt', map_location=torch.device('cpu'))\n",
    "#     print (model)\n",
    "    model.load_state_dict(checkpoint['model_state'])\n",
    "    models_list_fge_2.append(model)"
   ]
  },
  {
   "cell_type": "code",
   "execution_count": 8,
   "metadata": {},
   "outputs": [],
   "source": [
    "# len(models_list_fge)\n",
    "# len(models_list_fge_2)\n"
   ]
  },
  {
   "cell_type": "code",
   "execution_count": 9,
   "metadata": {},
   "outputs": [],
   "source": [
    "def ensemble_models (model_list, dataloader, device=torch.device('cpu')):\n",
    "    with torch.no_grad():\n",
    "        predictions = []\n",
    "        target = []\n",
    "        n_models = len(model_list)\n",
    "\n",
    "        for _, labels in dataloader:\n",
    "            target.append(labels.detach())\n",
    "        target = torch.cat(target, dim=0)\n",
    "\n",
    "#         for iter, model in tqdm(enumerate(model_list)):\n",
    "#             model_device = model.eval().to(device)\n",
    "#             predictions.append([])\n",
    "#             for input, _ in dataloader:\n",
    "#                 input_device = input.to(device).detach()\n",
    "#                 predictions[iter].append(model_device(input_device).detach().cpu())\n",
    "#                 del input_device\n",
    "#             predictions[iter] = torch.cat(predictions[iter], dim=0)\n",
    "#             del model_device\n",
    "\n",
    "#         print (predictions[0].shape, predictions[0].dtype)\n",
    "#         print (target.shape, target.dtype)\n",
    "\n",
    "        for iter in tqdm(range(len(model_list))):\n",
    "            model_device = model_list[0].eval().to(device)\n",
    "            predictions.append([])\n",
    "            for input, _ in dataloader:\n",
    "                input_device = input.to(device).detach()\n",
    "                predictions[iter].append(model_device(input_device).detach().cpu())\n",
    "                del input_device\n",
    "            predictions[iter] = torch.cat(predictions[iter], dim=0)\n",
    "            del model_device\n",
    "            del model_list[0]\n",
    "\n",
    "\n",
    "        sum_prediction = torch.zeros_like(predictions[0])\n",
    "        acc_list = []\n",
    "        ens_acc_list = []\n",
    "        for prediction in tqdm(predictions):\n",
    "            sum_prediction += prediction\n",
    "            pred_labels     = prediction    .argmax(dim=1)\n",
    "            ens_pred_labels = sum_prediction.argmax(dim=1)\n",
    "\n",
    "            acc     = torch.eq(pred_labels    , target).sum().item() / len(target)\n",
    "            ens_acc = torch.eq(ens_pred_labels, target).sum().item() / len(target)\n",
    "#             print ('Accuracy: ', acc, 'Ensemble accuracy: ', ens_acc)\n",
    "            acc_list    .append(acc)\n",
    "            ens_acc_list.append(ens_acc)\n",
    "        \n",
    "    return acc_list, ens_acc_list"
   ]
  },
  {
   "cell_type": "code",
   "execution_count": 10,
   "metadata": {},
   "outputs": [],
   "source": [
    "# torch.cuda.memory_summary(device=torch.device('cuda:0'))\n",
    "# torch.cuda.memory_snapshot()"
   ]
  },
  {
   "cell_type": "code",
   "execution_count": 11,
   "metadata": {},
   "outputs": [],
   "source": [
    "# cor_matrix = correlation.cross_entropy_Nmodels (needed_models, loaders['test'], torch.device('cpu'))"
   ]
  },
  {
   "cell_type": "code",
   "execution_count": 12,
   "metadata": {},
   "outputs": [],
   "source": [
    "# acc_list_ind, ens_acc_list_ind = ensemble_models(models_list_ind, loaders['train'], torch.device('cpu'))"
   ]
  },
  {
   "cell_type": "code",
   "execution_count": 13,
   "metadata": {},
   "outputs": [
    {
     "data": {
      "application/vnd.jupyter.widget-view+json": {
       "model_id": "121a117e19484c1a8b890089cca21e19",
       "version_major": 2,
       "version_minor": 0
      },
      "text/plain": [
       "HBox(children=(IntProgress(value=0, max=30), HTML(value='')))"
      ]
     },
     "metadata": {},
     "output_type": "display_data"
    },
    {
     "name": "stdout",
     "output_type": "stream",
     "text": [
      "\n"
     ]
    },
    {
     "data": {
      "application/vnd.jupyter.widget-view+json": {
       "model_id": "4cc9b17e30aa4337934152f25ce6ff9f",
       "version_major": 2,
       "version_minor": 0
      },
      "text/plain": [
       "HBox(children=(IntProgress(value=0, max=30), HTML(value='')))"
      ]
     },
     "metadata": {},
     "output_type": "display_data"
    },
    {
     "name": "stdout",
     "output_type": "stream",
     "text": [
      "\n"
     ]
    }
   ],
   "source": [
    "acc_list_fge, ens_acc_list_fge = ensemble_models(models_list_fge, loaders['test'], torch.device('cuda:0'))"
   ]
  },
  {
   "cell_type": "code",
   "execution_count": 14,
   "metadata": {},
   "outputs": [
    {
     "data": {
      "application/vnd.jupyter.widget-view+json": {
       "model_id": "ae4859771ec5403d82dc94ca19502b2a",
       "version_major": 2,
       "version_minor": 0
      },
      "text/plain": [
       "HBox(children=(IntProgress(value=0, max=30), HTML(value='')))"
      ]
     },
     "metadata": {},
     "output_type": "display_data"
    },
    {
     "name": "stdout",
     "output_type": "stream",
     "text": [
      "\n"
     ]
    },
    {
     "data": {
      "application/vnd.jupyter.widget-view+json": {
       "model_id": "229bc8b5a29641a6bf86e160442d7518",
       "version_major": 2,
       "version_minor": 0
      },
      "text/plain": [
       "HBox(children=(IntProgress(value=0, max=30), HTML(value='')))"
      ]
     },
     "metadata": {},
     "output_type": "display_data"
    },
    {
     "name": "stdout",
     "output_type": "stream",
     "text": [
      "\n"
     ]
    }
   ],
   "source": [
    "acc_list_fge_2, ens_acc_list_fge_2 = ensemble_models(models_list_fge_2, loaders['test'], torch.device('cuda:0'))"
   ]
  },
  {
   "cell_type": "code",
   "execution_count": 15,
   "metadata": {},
   "outputs": [],
   "source": [
    "def plot (y_mas, time, savefig=None):\n",
    "\n",
    "    fig, ax = plt.subplots()\n",
    "    for iter, y in enumerate(y_mas):\n",
    "        ax.plot(time, y, label=str(iter))\n",
    "\n",
    "    ax.set(xlabel='Number of models', ylabel='Accuracy',\n",
    "           title='Ensembling methods comparison')\n",
    "    ax.grid()\n",
    "\n",
    "    if savefig is not None:\n",
    "        fig.savefig(savefig)\n",
    "    plt.legend()\n",
    "    plt.show()"
   ]
  },
  {
   "cell_type": "code",
   "execution_count": 16,
   "metadata": {},
   "outputs": [
    {
     "data": {
      "image/png": "[encoded data removed]",
      "text/plain": [
       "<Figure size 432x288 with 1 Axes>"
      ]
     },
     "metadata": {
      "needs_background": "light"
     },
     "output_type": "display_data"
    }
   ],
   "source": [
    "# plot ([acc_list_ind, acc_list_fge, ens_acc_list_ind, ens_acc_list_fge], np.arange(len(acc_list_ind)))\n",
    "# plot ([acc_list_fge, ens_acc_list_fge], np.arange(len(acc_list_fge)))\n",
    "# plot ([acc_list_fge, ens_acc_list_fge, acc_list_fge_2, ens_acc_list_fge_2], np.arange(len(acc_list_fge)))\n",
    "plot (\n",
    "    [acc_list_fge,\n",
    "     acc_list_fge_2,\n",
    "     ens_acc_list_fge,\n",
    "     ens_acc_list_fge_2],\n",
    "    np.arange(len(acc_list_fge)))\n"
   ]
  },
  {
   "cell_type": "code",
   "execution_count": null,
   "metadata": {},
   "outputs": [],
   "source": [
    "\n"
   ]
  },
  {
   "cell_type": "code",
   "execution_count": null,
   "metadata": {},
   "outputs": [],
   "source": []
  }
 ],
 "metadata": {
  "kernelspec": {
   "display_name": "Python 3",
   "language": "python",
   "name": "python3"
  },
  "language_info": {
   "codemirror_mode": {
    "name": "ipython",
    "version": 3
   },
   "file_extension": ".py",
   "mimetype": "text/x-python",
   "name": "python",
   "nbconvert_exporter": "python",
   "pygments_lexer": "ipython3",
   "version": "3.7.4"
  }
 },
 "nbformat": 4,
 "nbformat_minor": 2
}
