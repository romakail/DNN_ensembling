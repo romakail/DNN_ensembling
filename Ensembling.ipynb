{
 "cells": [
  {
   "cell_type": "code",
   "execution_count": 1,
   "metadata": {},
   "outputs": [],
   "source": [
    "# System\n",
    "import os\n",
    "import sys\n",
    "import tabulate\n",
    "import time\n",
    "\n",
    "# Data processing\n",
    "import numpy as np\n",
    "import math as m\n",
    "\n",
    "# Results presentation\n",
    "from tqdm import tqdm_notebook as tqdm\n",
    "from IPython.display import clear_output\n",
    "import matplotlib\n",
    "import matplotlib.pyplot as plt\n",
    "\n",
    "# NN related stuff\n",
    "import torch\n",
    "import torch.nn as nn\n",
    "import torch.nn.functional as F\n",
    "from torch.utils.data import Dataset, DataLoader\n",
    "# from torch.autograd import Variable\n",
    "\n",
    "import data\n",
    "import models\n",
    "import utils\n",
    "import correlation\n",
    "\n",
    "\n",
    "%matplotlib inline"
   ]
  },
  {
   "cell_type": "code",
   "execution_count": 12,
   "metadata": {},
   "outputs": [],
   "source": [
    "class GlobalArguments():\n",
    "    \n",
    "    def __init__(self):\n",
    "        self.model       = 'VGG16BN'\n",
    "        self.dataset     = 'CIFAR10'\n",
    "        self.data_path   = 'Data/'\n",
    "        self.batch_size  = 128\n",
    "        self.num_workers = 4\n",
    "        self.transform   = 'VGG'\n",
    "        self.use_test    = True\n",
    "        self.models_path = 'Checkpoints/'\n",
    "        self.n_models    = 17\n",
    "args = GlobalArguments()"
   ]
  },
  {
   "cell_type": "code",
   "execution_count": 13,
   "metadata": {},
   "outputs": [
    {
     "name": "stdout",
     "output_type": "stream",
     "text": [
      "Files already downloaded and verified\n",
      "You are going to run models on the test set. Are you sure?\n",
      "Files already downloaded and verified\n"
     ]
    }
   ],
   "source": [
    "loaders, num_classes = data.loaders(\n",
    "    args.dataset,\n",
    "    args.data_path,\n",
    "    args.batch_size,\n",
    "    args.num_workers,\n",
    "    args.transform,\n",
    "    args.use_test\n",
    ")"
   ]
  },
  {
   "cell_type": "code",
   "execution_count": 14,
   "metadata": {},
   "outputs": [
    {
     "name": "stdout",
     "output_type": "stream",
     "text": [
      "391\n",
      "79\n",
      "50000\n",
      "10000\n"
     ]
    }
   ],
   "source": [
    "print(len(loaders['train']))\n",
    "print(len(loaders['test']))\n",
    "\n",
    "n_samples_train = 0\n",
    "for (x, _) in loaders['train']:\n",
    "    n_samples_train += x.shape[0]\n",
    "\n",
    "n_samples_test = 0\n",
    "for (x, _) in loaders['test']:\n",
    "    n_samples_test += x.shape[0]\n",
    "\n",
    "print (n_samples_train)\n",
    "print (n_samples_test)"
   ]
  },
  {
   "cell_type": "code",
   "execution_count": 4,
   "metadata": {},
   "outputs": [],
   "source": [
    "architecture = getattr(models, args.model)"
   ]
  },
  {
   "cell_type": "code",
   "execution_count": 5,
   "metadata": {},
   "outputs": [],
   "source": [
    "# models_list_ind = []\n",
    "# indicies = np.arange(args.n_models)\n",
    "# # np.random.shuffle(indicies[1:-1])\n",
    "\n",
    "# for i in indicies:\n",
    "#     model = architecture.base(num_classes=num_classes, **architecture.kwargs)\n",
    "#     checkpoint = torch.load(\n",
    "#           args.models_path\n",
    "#         + args.model + '_'\n",
    "#         + args.dataset + '_'\n",
    "#         + str(i) + '/checkpoint-200.pt',\n",
    "#         map_location=torch.device('cpu'))\n",
    "# #     print (model)\n",
    "#     model.load_state_dict(checkpoint['model_state'])\n",
    "#     models_list_ind.append(model)"
   ]
  },
  {
   "cell_type": "code",
   "execution_count": 7,
   "metadata": {},
   "outputs": [],
   "source": [
    "models_list_fge = []\n",
    "# indicies = range (690, 1011, 20)\n",
    "indicies = range (219, 1011, 20)\n",
    "\n",
    "for i in indicies:\n",
    "    model = architecture.base(num_classes=num_classes, **architecture.kwargs)\n",
    "    checkpoint = torch.load('./Checkpoints/FGE_VGG16BN_CIFAR10_CYCLE20_0/fge-' + str(i) + '.pt', map_location=torch.device('cpu'))\n",
    "#     print (model)\n",
    "    model.load_state_dict(checkpoint['model_state'])\n",
    "    models_list_fge.append(model)"
   ]
  },
  {
   "cell_type": "code",
   "execution_count": 19,
   "metadata": {},
   "outputs": [],
   "source": [
    "models_list_fge_2 = []\n",
    "# indicies = range (690, 1011, 20)\n",
    "indicies = range (210, 991, 20)\n",
    "\n",
    "for i in indicies:\n",
    "    model = architecture.base(num_classes=num_classes, **architecture.kwargs)\n",
    "    checkpoint = torch.load('./Checkpoints/FGE_VGG16BN_CIFAR10_CYCLE8_3/fge-' + str(i) + '.pt', map_location=torch.device('cpu'))\n",
    "#     print (model)\n",
    "    model.load_state_dict(checkpoint['model_state'])\n",
    "    models_list_fge_2.append(model)"
   ]
  },
  {
   "cell_type": "code",
   "execution_count": 20,
   "metadata": {},
   "outputs": [
    {
     "data": {
      "text/plain": [
       "40"
      ]
     },
     "execution_count": 20,
     "metadata": {},
     "output_type": "execute_result"
    }
   ],
   "source": [
    "len(models_list_fge)\n",
    "len(models_list_fge_2)\n"
   ]
  },
  {
   "cell_type": "code",
   "execution_count": 21,
   "metadata": {},
   "outputs": [],
   "source": [
    "def ensemble_models (model_list, dataloader, device=torch.device('cpu')):\n",
    "    predictions = []\n",
    "    target = []\n",
    "    n_models = len(model_list)\n",
    "    \n",
    "    for _, labels in dataloader:\n",
    "        target.append(labels.detach())\n",
    "    target = torch.cat(target, dim=0)\n",
    "    \n",
    "    for iter, model in tqdm(enumerate(model_list)):\n",
    "        model.eval().to(device)\n",
    "        predictions.append([])\n",
    "        for input, _ in dataloader:\n",
    "            predictions[iter].append(model(input.detach().to(device)).detach().cpu())\n",
    "        predictions[iter] = torch.cat(predictions[iter], dim=0)\n",
    "        \n",
    "#     print (predictions[0].shape, predictions[0].dtype)\n",
    "#     print (target.shape, target.dtype)\n",
    "    \n",
    "    sum_prediction = torch.zeros_like(predictions[0])\n",
    "    acc_list = []\n",
    "    ens_acc_list = []\n",
    "    for prediction in tqdm(predictions):\n",
    "        sum_prediction += prediction\n",
    "        pred_labels     = prediction    .argmax(dim=1)\n",
    "        ens_pred_labels = sum_prediction.argmax(dim=1)\n",
    "        \n",
    "        acc     = torch.eq(pred_labels    , target).sum().item() / len(target)\n",
    "        ens_acc = torch.eq(ens_pred_labels, target).sum().item() / len(target)\n",
    "#         print ('Accuracy: ', acc, 'Ensemble accuracy: ', ens_acc)\n",
    "        acc_list    .append(acc)\n",
    "        ens_acc_list.append(ens_acc)\n",
    "        \n",
    "    return acc_list, ens_acc_list"
   ]
  },
  {
   "cell_type": "code",
   "execution_count": 22,
   "metadata": {},
   "outputs": [],
   "source": [
    "# cor_matrix = correlation.cross_entropy_Nmodels (needed_models, loaders['test'], torch.device('cpu'))"
   ]
  },
  {
   "cell_type": "code",
   "execution_count": 23,
   "metadata": {},
   "outputs": [],
   "source": [
    "# acc_list_ind, ens_acc_list_ind = ensemble_models(models_list_ind, loaders['train'], torch.device('cpu'))"
   ]
  },
  {
   "cell_type": "code",
   "execution_count": 24,
   "metadata": {},
   "outputs": [
    {
     "data": {
      "application/vnd.jupyter.widget-view+json": {
       "model_id": "38f418acd06c4d68b7f3d28c876e8c7b",
       "version_major": 2,
       "version_minor": 0
      },
      "text/plain": [
       "HBox(children=(IntProgress(value=1, bar_style='info', max=1), HTML(value='')))"
      ]
     },
     "metadata": {},
     "output_type": "display_data"
    },
    {
     "name": "stdout",
     "output_type": "stream",
     "text": [
      "\n"
     ]
    },
    {
     "data": {
      "application/vnd.jupyter.widget-view+json": {
       "model_id": "1eb3f0562850451b89f45fcb0003d59d",
       "version_major": 2,
       "version_minor": 0
      },
      "text/plain": [
       "HBox(children=(IntProgress(value=0, max=40), HTML(value='')))"
      ]
     },
     "metadata": {},
     "output_type": "display_data"
    },
    {
     "name": "stdout",
     "output_type": "stream",
     "text": [
      "\n"
     ]
    }
   ],
   "source": [
    "acc_list_fge, ens_acc_list_fge = ensemble_models(models_list_fge, loaders['test'], torch.device('cuda:0'))"
   ]
  },
  {
   "cell_type": "code",
   "execution_count": 25,
   "metadata": {},
   "outputs": [
    {
     "data": {
      "application/vnd.jupyter.widget-view+json": {
       "model_id": "cf716174ab5442e49855b19e744e9afa",
       "version_major": 2,
       "version_minor": 0
      },
      "text/plain": [
       "HBox(children=(IntProgress(value=1, bar_style='info', max=1), HTML(value='')))"
      ]
     },
     "metadata": {},
     "output_type": "display_data"
    },
    {
     "name": "stdout",
     "output_type": "stream",
     "text": [
      "\n"
     ]
    },
    {
     "data": {
      "application/vnd.jupyter.widget-view+json": {
       "model_id": "b48c2fd5be714cc38d713dd403978be0",
       "version_major": 2,
       "version_minor": 0
      },
      "text/plain": [
       "HBox(children=(IntProgress(value=0, max=40), HTML(value='')))"
      ]
     },
     "metadata": {},
     "output_type": "display_data"
    },
    {
     "name": "stdout",
     "output_type": "stream",
     "text": [
      "\n"
     ]
    }
   ],
   "source": [
    "acc_list_fge_2, ens_acc_list_fge_2 = ensemble_models(models_list_fge_2, loaders['test'], torch.device('cuda:0'))"
   ]
  },
  {
   "cell_type": "code",
   "execution_count": 27,
   "metadata": {},
   "outputs": [],
   "source": [
    "def plot (y_mas, time, savefig=None):\n",
    "\n",
    "    fig, ax = plt.subplots()\n",
    "    for iter, y in enumerate(y_mas):\n",
    "        ax.plot(time, y, label=str(iter))\n",
    "\n",
    "    ax.set(xlabel='Number of models', ylabel='Accuracy',\n",
    "           title='Ensembling methods comparison')\n",
    "    ax.grid()\n",
    "\n",
    "    if savefig is not None:\n",
    "        fig.savefig(savefig)\n",
    "    plt.legend()\n",
    "    plt.show()"
   ]
  },
  {
   "cell_type": "code",
   "execution_count": 28,
   "metadata": {},
   "outputs": [
    {
     "data": {
      "image/png": "[encoded data removed]",
      "text/plain": [
       "<Figure size 432x288 with 1 Axes>"
      ]
     },
     "metadata": {
      "needs_background": "light"
     },
     "output_type": "display_data"
    }
   ],
   "source": [
    "# plot ([acc_list_ind, acc_list_fge, ens_acc_list_ind, ens_acc_list_fge], np.arange(len(acc_list_ind)))\n",
    "# plot ([acc_list_fge, ens_acc_list_fge], np.arange(len(acc_list_fge)))\n",
    "plot ([acc_list_fge, ens_acc_list_fge, acc_list_fge_2, ens_acc_list_fge_2], np.arange(len(acc_list_fge)))\n"
   ]
  },
  {
   "cell_type": "code",
   "execution_count": 36,
   "metadata": {},
   "outputs": [
    {
     "name": "stdout",
     "output_type": "stream",
     "text": [
      "tensor([ 1., -1.,  0.,  1.], grad_fn=<SignBackward>)\n",
      "None\n"
     ]
    }
   ],
   "source": [
    "\n"
   ]
  },
  {
   "cell_type": "code",
   "execution_count": null,
   "metadata": {},
   "outputs": [],
   "source": []
  }
 ],
 "metadata": {
  "kernelspec": {
   "display_name": "Python 3",
   "language": "python",
   "name": "python3"
  },
  "language_info": {
   "codemirror_mode": {
    "name": "ipython",
    "version": 3
   },
   "file_extension": ".py",
   "mimetype": "text/x-python",
   "name": "python",
   "nbconvert_exporter": "python",
   "pygments_lexer": "ipython3",
   "version": "3.7.4"
  }
 },
 "nbformat": 4,
 "nbformat_minor": 2
}
