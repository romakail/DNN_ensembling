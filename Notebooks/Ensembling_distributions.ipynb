{
 "cells": [
  {
   "cell_type": "code",
   "execution_count": 1,
   "metadata": {},
   "outputs": [],
   "source": [
    "# System\n",
    "import os\n",
    "import sys\n",
    "import inspect\n",
    "import tabulate\n",
    "import time\n",
    "\n",
    "# Data processing\n",
    "import numpy as np\n",
    "import math as m\n",
    "\n",
    "# Results presentation\n",
    "from tqdm import tqdm as tqdm\n",
    "from IPython.display import clear_output\n",
    "import matplotlib\n",
    "import matplotlib.pyplot as plt\n",
    "\n",
    "# NN related stuff\n",
    "import torch\n",
    "import torch.nn as nn\n",
    "import torch.nn.functional as F\n",
    "from torch.utils.data import Dataset, DataLoader\n",
    "\n",
    "current_dir = os.path.dirname(os.path.abspath(inspect.getfile(inspect.currentframe())))\n",
    "parent_dir = os.path.dirname(current_dir)\n",
    "sys.path.insert(0, parent_dir) \n",
    "\n",
    "import data\n",
    "import models\n",
    "import utils\n",
    "import correlation\n",
    "import regularization\n",
    "\n",
    "%matplotlib inline"
   ]
  },
  {
   "cell_type": "code",
   "execution_count": 2,
   "metadata": {},
   "outputs": [],
   "source": [
    "class GlobalArguments():\n",
    "    \n",
    "    def __init__(self):\n",
    "        self.model       = 'ConvFC'\n",
    "        self.dataset     = 'CIFAR100'\n",
    "        self.data_path   = '../Data/'\n",
    "        self.batch_size  = 128\n",
    "        self.num_workers = 4\n",
    "        self.transform   = 'VGG'\n",
    "        self.use_test    = True\n",
    "        self.models_path = 'Checkpoints/'\n",
    "        self.n_models    = 40\n",
    "        self.ckpt        = '../Checkpoints/FGE/CIFAR100/ConvFC/grad_boost/classic/lr_auto/0.01-0.0001-0/fge-200.pt'\n",
    "        self.boost_ckpts = '../Checkpoints/FGE/CIFAR100/ConvFC/grad_boost/classic/lr_auto/0.01-0.0001-0/'\n",
    "args = GlobalArguments()"
   ]
  },
  {
   "cell_type": "code",
   "execution_count": 3,
   "metadata": {},
   "outputs": [
    {
     "data": {
      "text/plain": [
       "ConvFCBase(\n",
       "  (conv_part): Sequential(\n",
       "    (0): Conv2d(3, 32, kernel_size=(5, 5), stride=(1, 1), padding=(2, 2))\n",
       "    (1): ReLU(inplace=True)\n",
       "    (2): MaxPool2d(kernel_size=3, stride=2, padding=0, dilation=1, ceil_mode=False)\n",
       "    (3): Conv2d(32, 64, kernel_size=(5, 5), stride=(1, 1), padding=(2, 2))\n",
       "    (4): ReLU(inplace=True)\n",
       "    (5): MaxPool2d(kernel_size=3, stride=2, padding=0, dilation=1, ceil_mode=False)\n",
       "    (6): Conv2d(64, 128, kernel_size=(5, 5), stride=(1, 1), padding=(2, 2))\n",
       "    (7): ReLU(inplace=True)\n",
       "    (8): MaxPool2d(kernel_size=3, stride=2, padding=0, dilation=1, ceil_mode=False)\n",
       "  )\n",
       "  (fc_part): Sequential(\n",
       "    (0): Linear(in_features=1152, out_features=1000, bias=True)\n",
       "    (1): ReLU(inplace=True)\n",
       "    (2): Linear(in_features=1000, out_features=1000, bias=True)\n",
       "    (3): ReLU(inplace=True)\n",
       "    (4): Linear(in_features=1000, out_features=100, bias=True)\n",
       "  )\n",
       ")"
      ]
     },
     "execution_count": 3,
     "metadata": {},
     "output_type": "execute_result"
    }
   ],
   "source": [
    "if   args.dataset == \"CIFAR10\":\n",
    "    num_classes = 10\n",
    "elif args.dataset == \"CIFAR100\":\n",
    "    num_classes = 100\n",
    "    \n",
    "architecture = getattr(models, args.model)\n",
    "model = architecture.base(num_classes=num_classes, **architecture.kwargs)\n",
    "checkpoint = torch.load(args.ckpt)\n",
    "model.load_state_dict(checkpoint['model_state'])\n",
    "model.cuda()"
   ]
  },
  {
   "cell_type": "code",
   "execution_count": 4,
   "metadata": {},
   "outputs": [
    {
     "name": "stdout",
     "output_type": "stream",
     "text": [
      "Files already downloaded and verified\n",
      "Initial logits :\n",
      "Shape : torch.Size([50000, 100]) Logits_mean : 0.011911720968782902\n",
      "Max : 198.62522888183594 Min : -82.59825134277344\n",
      "You are going to run models on the test set. Are you sure?\n",
      "Files already downloaded and verified\n"
     ]
    }
   ],
   "source": [
    "loaders, num_classes = data.loaders_gb(\n",
    "    args.dataset,\n",
    "    args.data_path,\n",
    "    args.batch_size,\n",
    "    args.num_workers,\n",
    "    args.transform,\n",
    "    args.use_test,\n",
    "    shuffle_train=False,\n",
    "    logits_generator=regularization.dataset_logits_generator(\n",
    "        model,\n",
    "        transform=getattr(getattr(data.Transforms, args.dataset), args.transform).train,\n",
    "        batch_size=args.batch_size),\n",
    ")"
   ]
  },
  {
   "cell_type": "code",
   "execution_count": 5,
   "metadata": {},
   "outputs": [],
   "source": [
    "# models_list_ind = []\n",
    "# indicies = np.arange(args.n_models)\n",
    "# # np.random.shuffle(indicies[1:-1])\n",
    "\n",
    "# for i in indicies:\n",
    "#     model = architecture.base(num_classes=num_classes, **architecture.kwargs)\n",
    "#     checkpoint = torch.load(\n",
    "#           args.models_path\n",
    "#         + args.model + '_'\n",
    "#         + args.dataset + '_'\n",
    "#         + str(i) + '/checkpoint-200.pt',\n",
    "#         map_location=torch.device('cpu'))\n",
    "# #     print (model)\n",
    "#     model.load_state_dict(checkpoint['model_state'])\n",
    "#     models_list_ind.append(model)"
   ]
  },
  {
   "cell_type": "code",
   "execution_count": 6,
   "metadata": {},
   "outputs": [
    {
     "name": "stderr",
     "output_type": "stream",
     "text": [
      "100%|██████████| 17/17 [00:00<00:00, 22.88it/s]\n"
     ]
    }
   ],
   "source": [
    "models_list_fge = []\n",
    "models_weights  = []\n",
    "# indicies = range (690, 1011, 20)\n",
    "indicies = [i for i in range (249, 1000, 50)]\n",
    "indicies.insert(0, 200)\n",
    "\n",
    "for i in tqdm(indicies):\n",
    "    model = architecture.base(num_classes=num_classes, **architecture.kwargs)\n",
    "    checkpoint = torch.load(args.boost_ckpts + 'fge-' + str(i) + '.pt', map_location=torch.device('cpu'))\n",
    "    model.load_state_dict(checkpoint['model_state'])\n",
    "    models_list_fge.append(model)\n",
    "    models_weights .append(checkpoint['boost_weight'])"
   ]
  },
  {
   "cell_type": "code",
   "execution_count": 7,
   "metadata": {},
   "outputs": [],
   "source": [
    "def outputs_target_labels(model, dataloader, device=torch.device('cpu')):\n",
    "    with torch.no_grad():\n",
    "        model.to(device)\n",
    "        target_list = []\n",
    "        output_list = []\n",
    "        labels_list = []\n",
    "        for input, labels, logits in dataloader:\n",
    "            input  = input .to(device)\n",
    "            logits = logits.to(device).detach()\n",
    "            labels = labels.to(device)\n",
    "\n",
    "            target = utils.one_hot(labels, logits.shape[1]) - F.softmax(logits, dim=1)\n",
    "            output = model(input)\n",
    "\n",
    "            output_list.append(output.cpu())\n",
    "            target_list.append(target.cpu())\n",
    "            labels_list.append(labels.cpu())\n",
    "\n",
    "        output_list = torch.cat(output_list, dim=0)\n",
    "        target_list = torch.cat(target_list, dim=0)\n",
    "        labels_list = torch.cat(labels_list, dim=0)\n",
    "    return output_list, target_list, labels_list\n",
    "\n",
    "def STD(tensor):\n",
    "    return ((tensor - tensor.mean(dim=0, keepdim=True))**2).mean().sqrt().item()\n",
    "\n",
    "def target_and_predicted_distributions(model_list, loaders, device=torch.device('cpu')):\n",
    "    table = {\n",
    "        'Iter'      : [],\n",
    "        'Weight'    : [],\n",
    "        'Trg_mean'  : [],\n",
    "        'Prd_mean'  : [],\n",
    "        'Trg_std'   : [],\n",
    "        'Prd_std'   : [],\n",
    "        'Mean_L1'   : [],\n",
    "        'Mean_L2'   : [],\n",
    "        'Train_acc' : [],\n",
    "        'Test_acc'  : [],\n",
    "        'Add_std_tr': [],\n",
    "        'Add_std_te': [],\n",
    "    }\n",
    "    criterion_L2 = torch.nn.MSELoss(reduction='none')\n",
    "    criterion_L1 = torch.nn.L1Loss(reduction='none')\n",
    "    \n",
    "    output_sum_train = 0.\n",
    "    output_sum_test  = 0.\n",
    "    \n",
    "    with torch.no_grad():\n",
    "        for iter in tqdm(range(len(model_list))):\n",
    "            model = model_list[0].eval().to(device)\n",
    "            \n",
    "            output_train, target_train, labels_train = outputs_target_labels(\n",
    "                model,\n",
    "                loaders['train'],\n",
    "                device=device)\n",
    "                \n",
    "            output_test, target_test, labels_test = outputs_target_labels(\n",
    "                model,\n",
    "                loaders['test'],\n",
    "                device=device)\n",
    "            \n",
    "            output_sum_train += models_weights[iter] * output_train\n",
    "            output_sum_test  += models_weights[iter] * output_test\n",
    "         \n",
    "            table['Iter'      ].append(iter)\n",
    "            table['Weight'    ].append(models_weights[iter])\n",
    "            table['Trg_mean'  ].append(target_test.mean().item())\n",
    "            table['Prd_mean'  ].append(output_test.mean().item())\n",
    "            table['Trg_std'   ].append(STD(target_test))\n",
    "            table['Prd_std'   ].append(STD(output_test))\n",
    "            table['Mean_L1'   ].append(criterion_L1(output_test, target_test).mean().item())\n",
    "            table['Mean_L2'   ].append(criterion_L2(output_test, target_test ).mean().item())\n",
    "            table['Train_acc' ].append(torch.eq(output_sum_train.argmax(dim=1), labels_train).float().mean().item())\n",
    "            table['Test_acc'  ].append(torch.eq(output_sum_test .argmax(dim=1), labels_test ).float().mean().item())\n",
    "            table['Add_std_tr'].append(STD(models_weights[iter] * output_train))\n",
    "            table['Add_std_te'].append(STD(models_weights[iter] * output_test))\n",
    "            \n",
    "#             print (iter, Loss, target_mean, target_std, output_mean, output_std)\n",
    "            \n",
    "            loaders['train'].dataset.update_logits(\n",
    "                models_weights[iter],\n",
    "                logits_generator=regularization.dataset_logits_generator(\n",
    "                    model,\n",
    "                    transform=getattr(getattr(\n",
    "                            data.Transforms,\n",
    "                            args.dataset),\n",
    "                        args.transform).train,\n",
    "                    batch_size = args.batch_size))\n",
    "        \n",
    "            loaders['test'].dataset.update_logits(\n",
    "                models_weights[iter],\n",
    "                logits_generator=regularization.dataset_logits_generator(\n",
    "                    model,\n",
    "                    transform=getattr(getattr(\n",
    "                            data.Transforms,\n",
    "                            args.dataset),\n",
    "                        args.transform).test,\n",
    "                    batch_size = args.batch_size))\n",
    "            \n",
    "            del model\n",
    "            del model_list[0]\n",
    "    return table\n",
    "            \n",
    "            \n",
    "#         regularization.logits_info(dataloader.dataset.logits)"
   ]
  },
  {
   "cell_type": "code",
   "execution_count": 9,
   "metadata": {},
   "outputs": [
    {
     "name": "stderr",
     "output_type": "stream",
     "text": [
      "100%|██████████| 17/17 [07:34<00:00, 26.71s/it]"
     ]
    },
    {
     "name": "stdout",
     "output_type": "stream",
     "text": [
      "+--------+----------+-------------+--------------+-----------+--------------+-------------+--------------+-------------+------------+--------------+--------------+\n",
      "|   Iter |   Weight |    Trg_mean |     Prd_mean |   Trg_std |      Prd_std |     Mean_L1 |      Mean_L2 |   Train_acc |   Test_acc |   Add_std_tr |   Add_std_te |\n",
      "+========+==========+=============+==============+===========+==============+=============+==============+=============+============+==============+==============+\n",
      "|      0 |     1    | 1.69206e-09 |  0.0100058   | 0.0900054 | 11.0449      | 7.67479     | 127.565      |     0.99912 |     0.533  | 10.2437      | 11.0449      |\n",
      "+--------+----------+-------------+--------------+-----------+--------------+-------------+--------------+-------------+------------+--------------+--------------+\n",
      "|      1 | 15133.9  | 3.00169e-10 | -7.44127e-11 | 0.0911174 |  1.47883e-09 | 1.76355e-05 |   0.00830344 |     0.99904 |     0.5321 |  9.14355e-05 |  1.82362e-05 |\n",
      "+--------+----------+-------------+--------------+-----------+--------------+-------------+--------------+-------------+------------+--------------+--------------+\n",
      "|      2 | 15117.1  | 2.9707e-10  | -7.28108e-11 | 0.091084  |  1.11713e-09 | 1.75901e-05 |   0.00829741 |     0.9987  |     0.533  |  6.88775e-05 |  1.96541e-05 |\n",
      "+--------+----------+-------------+--------------+-----------+--------------+-------------+--------------+-------------+------------+--------------+--------------+\n",
      "|      3 | 15141.9  | 2.42233e-10 | -7.56979e-11 | 0.0910613 |  1.09799e-09 | 1.77577e-05 |   0.0082934  |     0.99824 |     0.5308 |  7.88037e-05 |  1.79141e-05 |\n",
      "+--------+----------+-------------+--------------+-----------+--------------+-------------+--------------+-------------+------------+--------------+--------------+\n",
      "|      4 | 15198    | 3.19719e-10 | -8.30367e-11 | 0.0910602 |  1.16111e-09 | 1.84014e-05 |   0.00829346 |     0.99718 |     0.5306 |  7.61437e-05 |  1.38763e-05 |\n",
      "+--------+----------+-------------+--------------+-----------+--------------+-------------+--------------+-------------+------------+--------------+--------------+\n",
      "|      5 | 15176.4  | 2.563e-10   | -8.56072e-11 | 0.091092  |  1.12587e-09 | 1.98541e-05 |   0.00829957 |     0.99538 |     0.5293 |  7.65808e-05 |  1.74474e-05 |\n",
      "+--------+----------+-------------+--------------+-----------+--------------+-------------+--------------+-------------+------------+--------------+--------------+\n",
      "|      6 | 15360.5  | 2.44737e-10 | -8.50856e-11 | 0.0911579 |  1.08964e-09 | 2.18789e-05 |   0.00831205 |     0.99388 |     0.5268 |  8.17635e-05 |  1.88562e-05 |\n",
      "+--------+----------+-------------+--------------+-----------+--------------+-------------+--------------+-------------+------------+--------------+--------------+\n",
      "|      7 | 15188.6  | 3.18766e-10 | -7.16001e-11 | 0.0912404 |  1.12636e-09 | 2.50356e-05 |   0.00832766 |     0.99174 |     0.5238 |  9.87549e-05 |  2.14222e-05 |\n",
      "+--------+----------+-------------+--------------+-----------+--------------+-------------+--------------+-------------+------------+--------------+--------------+\n",
      "|      8 | 15097.8  | 2.96831e-10 | -6.61798e-11 | 0.0913306 |  1.0373e-09  | 3.04789e-05 |   0.00834482 |     0.98904 |     0.5216 |  0.000102637 |  1.76843e-05 |\n",
      "+--------+----------+-------------+--------------+-----------+--------------+-------------+--------------+-------------+------------+--------------+--------------+\n",
      "|      9 | 15214    | 2.82288e-10 | -7.93114e-11 | 0.0914271 |  1.01844e-09 | 3.83164e-05 |   0.00836334 |     0.98626 |     0.5194 |  9.19001e-05 |  1.65534e-05 |\n",
      "+--------+----------+-------------+--------------+-----------+--------------+-------------+--------------+-------------+------------+--------------+--------------+\n",
      "|     10 | 15171.2  | 2.97308e-10 | -8.02427e-11 | 0.0915389 |  1.10264e-09 | 4.83592e-05 |   0.00838479 |     0.98282 |     0.5147 |  8.94228e-05 |  1.74725e-05 |\n",
      "+--------+----------+-------------+--------------+-----------+--------------+-------------+--------------+-------------+------------+--------------+--------------+\n",
      "|     11 | 14929.9  | 2.99931e-10 | -8.18074e-11 | 0.0916717 |  1.01155e-09 | 5.97852e-05 |   0.0084103  |     0.9783  |     0.5097 |  0.000104014 |  1.56714e-05 |\n",
      "+--------+----------+-------------+--------------+-----------+--------------+-------------+--------------+-------------+------------+--------------+--------------+\n",
      "|     12 | 14944.7  | 2.91348e-10 | -8.44523e-11 | 0.0918207 |  1.14442e-09 | 7.12603e-05 |   0.00843899 |     0.97336 |     0.5043 |  0.000100941 |  1.42867e-05 |\n",
      "+--------+----------+-------------+--------------+-----------+--------------+-------------+--------------+-------------+------------+--------------+--------------+\n",
      "|     13 | 15069.9  | 2.67029e-10 | -7.69086e-11 | 0.0919744 |  9.17644e-10 | 8.318e-05   |   0.00846883 |     0.96682 |     0.4984 |  9.39273e-05 |  2.06879e-05 |\n",
      "+--------+----------+-------------+--------------+-----------+--------------+-------------+--------------+-------------+------------+--------------+--------------+\n",
      "|     14 | 15015.9  | 2.98023e-10 | -6.85453e-11 | 0.0921417 |  1.13123e-09 | 9.74643e-05 |   0.00850148 |     0.96    |     0.4949 |  0.035454    |  1.57416e-05 |\n",
      "+--------+----------+-------------+--------------+-----------+--------------+-------------+--------------+-------------+------------+--------------+--------------+\n",
      "|     15 | 15162.9  | 2.8944e-10  | -6.40642e-10 | 0.0923283 |  2.38645e-06 | 0.00011364  |   0.00853815 |     0.95204 |     0.4901 |  0.00365288  |  0.0361855   |\n",
      "+--------+----------+-------------+--------------+-----------+--------------+-------------+--------------+-------------+------------+--------------+--------------+\n",
      "|     16 |  8827.89 | 2.6989e-10  | -1.03176e-08 | 0.0925352 |  1.39483e-05 | 0.000130777 |   0.00857899 |     0.9461  |     0.4878 |  0.0400325   |  0.123134    |\n",
      "+--------+----------+-------------+--------------+-----------+--------------+-------------+--------------+-------------+------------+--------------+--------------+\n"
     ]
    },
    {
     "name": "stderr",
     "output_type": "stream",
     "text": [
      "\n"
     ]
    }
   ],
   "source": [
    "table = target_and_predicted_distributions(models_list_fge, loaders, device=torch.device('cuda:0'))\n",
    "print (tabulate.tabulate(table, headers='keys', tablefmt=\"grid\"))"
   ]
  },
  {
   "cell_type": "code",
   "execution_count": null,
   "metadata": {},
   "outputs": [],
   "source": []
  },
  {
   "cell_type": "code",
   "execution_count": 32,
   "metadata": {},
   "outputs": [],
   "source": [
    "def draw_grapfics(table):\n",
    "    fig, ((ax1, ax2), (ax3, ax4), (ax5, ax6)) = plt.subplots(\n",
    "    nrows=3, ncols=2,\n",
    "    figsize=(10, 15))\n",
    "    \n",
    "    ax1.plot(table['Iter'], table['Train_acc'], marker='o')\n",
    "    ax1.set_title('Train accuracy')\n",
    "    ax1.set_xlabel('Iter')\n",
    "    ax1.set_ylabel('Train accuracy')\n",
    "    \n",
    "    ax2.plot(table['Iter'], table['Test_acc'], marker='o')\n",
    "    ax2.set_title('Test accuracy')\n",
    "    ax2.set_xlabel('Iter')\n",
    "    ax2.set_ylabel('Test accuracy')\n",
    "    \n",
    "    ax3.plot(table['Iter'][1:], table['Mean_L1'][1:], marker='o')\n",
    "    ax3.set_title('Mean L1 on test')\n",
    "    ax3.set_xlabel('Iter')\n",
    "    ax3.set_ylabel('L1')\n",
    "    \n",
    "    ax4.plot(table['Iter'][1:], table['Mean_L2'][1:], marker='o')\n",
    "    ax4.set_title('Mean L2 on test')\n",
    "    ax4.set_xlabel('Iter')\n",
    "    ax4.set_ylabel('L2')\n",
    "    \n",
    "    ax5.plot(table['Iter'][1:], table['Weight'][1:], marker='o')\n",
    "    ax5.set_title('Weight in boosting')\n",
    "    ax5.set_xlabel('Iter')\n",
    "    ax5.set_ylabel('Weight')\n",
    "    \n",
    "    ax6.plot(table['Iter'][1:], table['Add_std_tr'][1:], marker='o')\n",
    "    ax6.set_title('Added STD')\n",
    "    ax6.set_xlabel('Iter')\n",
    "    ax6.set_ylabel('STD')"
   ]
  },
  {
   "cell_type": "code",
   "execution_count": 33,
   "metadata": {},
   "outputs": [
    {
     "data": {
      "image/png": "[encoded data removed]",
      "text/plain": [
       "<Figure size 720x1080 with 6 Axes>"
      ]
     },
     "metadata": {
      "needs_background": "light"
     },
     "output_type": "display_data"
    }
   ],
   "source": [
    "draw_grapfics(table)"
   ]
  },
  {
   "cell_type": "code",
   "execution_count": null,
   "metadata": {},
   "outputs": [],
   "source": [
    "# def ensemble_models (model_list, dataloader, device=torch.device('cpu')):\n",
    "#     with torch.no_grad():\n",
    "#         predictions = []\n",
    "#         target = []\n",
    "#         n_models = len(model_list)\n",
    "\n",
    "#         for _, labels in dataloader:\n",
    "#             target.append(labels.detach())\n",
    "#         target = torch.cat(target, dim=0)\n",
    "\n",
    "#         for iter in tqdm(range(len(model_list))):\n",
    "#             model_device = model_list[0].eval().to(device)\n",
    "#             predictions.append([])\n",
    "#             for input, _ in dataloader:\n",
    "#                 input_device = input.to(device).detach()\n",
    "#                 predictions[iter].append(model_device(input_device).detach().cpu())\n",
    "#                 del input_device\n",
    "#             predictions[iter] = torch.cat(predictions[iter], dim=0)\n",
    "#             del model_device\n",
    "#             del model_list[0]\n",
    "\n",
    "\n",
    "#         sum_prediction = torch.zeros_like(predictions[0])\n",
    "#         acc_list = []\n",
    "#         ens_acc_list = []\n",
    "#         for prediction in tqdm(predictions):\n",
    "#             sum_prediction += prediction\n",
    "#             pred_labels     = prediction    .argmax(dim=1)\n",
    "#             ens_pred_labels = sum_prediction.argmax(dim=1)\n",
    "\n",
    "#             acc     = torch.eq(pred_labels    , target).sum().item() / len(target)\n",
    "#             ens_acc = torch.eq(ens_pred_labels, target).sum().item() / len(target)\n",
    "#             acc_list    .append(acc)\n",
    "#             ens_acc_list.append(ens_acc)\n",
    "        \n",
    "#     return acc_list, ens_acc_list"
   ]
  },
  {
   "cell_type": "code",
   "execution_count": null,
   "metadata": {},
   "outputs": [],
   "source": [
    "# torch.cuda.memory_summary(device=torch.device('cuda:0'))\n",
    "# torch.cuda.memory_snapshot()"
   ]
  },
  {
   "cell_type": "code",
   "execution_count": 11,
   "metadata": {},
   "outputs": [],
   "source": [
    "# cor_matrix = correlation.cross_entropy_Nmodels (needed_models, loaders['test'], torch.device('cpu'))"
   ]
  },
  {
   "cell_type": "code",
   "execution_count": 12,
   "metadata": {},
   "outputs": [],
   "source": [
    "# acc_list_ind, ens_acc_list_ind = ensemble_models(models_list_ind, loaders['train'], torch.device('cpu'))"
   ]
  },
  {
   "cell_type": "code",
   "execution_count": 13,
   "metadata": {},
   "outputs": [
    {
     "data": {
      "application/vnd.jupyter.widget-view+json": {
       "model_id": "b76dd2e3dc474ba1951a60e1292b1f0f",
       "version_major": 2,
       "version_minor": 0
      },
      "text/plain": [
       "HBox(children=(IntProgress(value=0, max=9), HTML(value='')))"
      ]
     },
     "metadata": {},
     "output_type": "display_data"
    },
    {
     "name": "stdout",
     "output_type": "stream",
     "text": [
      "\n"
     ]
    },
    {
     "data": {
      "application/vnd.jupyter.widget-view+json": {
       "model_id": "060f54211ed949d29f5abfeebb154a48",
       "version_major": 2,
       "version_minor": 0
      },
      "text/plain": [
       "HBox(children=(IntProgress(value=0, max=9), HTML(value='')))"
      ]
     },
     "metadata": {},
     "output_type": "display_data"
    },
    {
     "name": "stdout",
     "output_type": "stream",
     "text": [
      "\n"
     ]
    }
   ],
   "source": [
    "# acc_list_fge, ens_acc_list_fge = ensemble_models(models_list_fge, loaders['test'], torch.device('cuda:1'))"
   ]
  },
  {
   "cell_type": "code",
   "execution_count": 14,
   "metadata": {},
   "outputs": [],
   "source": [
    "# acc_list_fge_2, ens_acc_list_fge_2 = ensemble_models(models_list_fge_2, loaders['test'], torch.device('cuda:0'))"
   ]
  },
  {
   "cell_type": "code",
   "execution_count": 15,
   "metadata": {},
   "outputs": [],
   "source": [
    "# def plot (y_mas, time, savefig=None):\n",
    "\n",
    "#     fig, ax = plt.subplots()\n",
    "#     for iter, y in enumerate(y_mas):\n",
    "#         ax.plot(time, y, label=str(iter))\n",
    "\n",
    "#     ax.set(xlabel='Number of models', ylabel='Accuracy',\n",
    "#            title='Ensembling methods comparison')\n",
    "#     ax.grid()\n",
    "\n",
    "#     if savefig is not None:\n",
    "#         fig.savefig(savefig)\n",
    "#     plt.legend()\n",
    "#     plt.show()"
   ]
  },
  {
   "cell_type": "code",
   "execution_count": 16,
   "metadata": {},
   "outputs": [
    {
     "data": {
      "image/png": "[encoded data removed]",
      "text/plain": [
       "<Figure size 432x288 with 1 Axes>"
      ]
     },
     "metadata": {
      "needs_background": "light"
     },
     "output_type": "display_data"
    }
   ],
   "source": [
    "# plot ([acc_list_ind, acc_list_fge, ens_acc_list_ind, ens_acc_list_fge], np.arange(len(acc_list_ind)))\n",
    "# plot ([ens_acc_list_fge], np.arange(len(acc_list_fge)))\n",
    "# plot (\n",
    "#     [acc_list_fge,\n",
    "#      acc_list_fge_2,\n",
    "#      ens_acc_list_fge,\n",
    "#      ens_acc_list_fge_2],\n",
    "#     np.arange(len(acc_list_fge)))\n"
   ]
  },
  {
   "cell_type": "code",
   "execution_count": null,
   "metadata": {},
   "outputs": [],
   "source": [
    "\n"
   ]
  },
  {
   "cell_type": "code",
   "execution_count": null,
   "metadata": {},
   "outputs": [],
   "source": []
  }
 ],
 "metadata": {
  "kernelspec": {
   "display_name": "Python 3",
   "language": "python",
   "name": "python3"
  },
  "language_info": {
   "codemirror_mode": {
    "name": "ipython",
    "version": 3
   },
   "file_extension": ".py",
   "mimetype": "text/x-python",
   "name": "python",
   "nbconvert_exporter": "python",
   "pygments_lexer": "ipython3",
   "version": "3.7.4"
  }
 },
 "nbformat": 4,
 "nbformat_minor": 4
}
